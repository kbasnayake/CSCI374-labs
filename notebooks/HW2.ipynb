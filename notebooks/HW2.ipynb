{
 "cells": [
  {
   "cell_type": "markdown",
   "metadata": {},
   "source": [
    "**!!!Run the next cell first!!!**"
   ]
  },
  {
   "cell_type": "code",
   "execution_count": 1,
   "metadata": {},
   "outputs": [],
   "source": [
    "#load \"regex.fsx\"\n",
    "open CSCI374.RegularExpressions"
   ]
  },
  {
   "cell_type": "markdown",
   "metadata": {},
   "source": [
    "# Regular Expressions\n",
    "\n",
    " \n",
    "***Student Name:*** <put your name here>\n",
    "    \n",
    "---        \n",
    "    \n",
    "## Submission\n",
    "\n",
    "After answering all the questions, save your work in **PDF** format file\n",
    "    \n",
    "- Double-click on this cell\n",
    "- Enter your name in the above placeholder, and evaluate this cell to render it correctly\n",
    "- Save your work by pressing <span class=\"fa-save fa\"/> button in the toolbar\n",
    "- Go to menu \"File\" -> \"Download as\"\n",
    "- Select \"PDF via Latex (.pdf)\"\n",
    "- Use downloaded file for Blackboard submission \n",
    "\n",
    "For more information, see https://www.codecademy.com/articles/how-to-use-jupyter-notebooks\n",
    "\n",
    "### Coding Style\n",
    "\n",
    "- Use functional F# style for writing your programs.\n",
    "- Make sure that you do not use mutable variables & loops.\n",
    "- Any imperative style programming is prohibited unless specified in the problem description.\n",
    "\n",
    "For additional information of F# coding style see [F# Style Guide](https://docs.microsoft.com/en-us/dotnet/fsharp/style-guide/).\n",
    "\n",
    "### Before You Submit\n",
    "\n",
    "You are required to test that your submission works properly before submission. Make sure that your program compiles without errors. Once you have verified that the submission is correct, you can submit your work.\n",
    "\n",
    "### Your Submission\n",
    "\n",
    "Program submissions should be done through the Blackboard.\n",
    "    \n",
    "---"
   ]
  },
  {
   "cell_type": "markdown",
   "metadata": {},
   "source": [
    "## Strings\n",
    "\n",
    "In this section, you will practice to strings using [F# string functions](https://msdn.microsoft.com/visualfsharpdocs/conceptual/core.string-module-%5bfsharp%5d).\n",
    "\n",
    "### Instructions\n",
    "\n",
    "- For each of the following problems write a function that returns a required string.\n",
    "- Use **only** F# string functions\n",
    "- 4 points per problem\n",
    "\n",
    "\n",
    "### Resources\n",
    "\n",
    "- [F# Language Reference: Strings](https://docs.microsoft.com/en-us/dotnet/fsharp/language-reference/strings)\n",
    "- [Strings in C# and .NET](https://csharpindepth.com/Articles/Strings)\n",
    "- [String Operations In F#](https://www.c-sharpcorner.com/article/string-operations-in-fsharp/)\n",
    "\n",
    "---"
   ]
  },
  {
   "cell_type": "markdown",
   "metadata": {},
   "source": [
    "Write a function `checkerboard` that accepts integer parameter `n` and outputs checker board pattern string of `2n x 2n` size as follows:\n",
    "\n",
    "- Example function call `checkerboard 6` output\n",
    "\n",
    "```\n",
    "* * * * * * \n",
    " * * * * * *\n",
    "* * * * * * \n",
    " * * * * * *\n",
    "* * * * * * \n",
    " * * * * * *\n",
    "```"
   ]
  },
  {
   "cell_type": "code",
   "execution_count": 115,
   "metadata": {},
   "outputs": [
    {
     "data": {
      "text/plain": [
       "* * * \n",
       " * * *\n",
       "* * * \n"
      ]
     },
     "execution_count": 115,
     "metadata": {},
     "output_type": "execute_result"
    }
   ],
   "source": [
    "let checkerboard n :string = \n",
    "    ...\n",
    "    \n",
    "checkerboard 3"
   ]
  },
  {
   "cell_type": "markdown",
   "metadata": {},
   "source": [
    "Write a function `rhombus` that accepts integer parameter `n` and outputs that outputs rhombical pattern as follows:\n",
    "\n",
    "- Example: `rhombus 5`\n",
    "\n",
    "```\n",
    "     *\n",
    "    ***\n",
    "   *****\n",
    "  *******\n",
    " *********\n",
    "  *******\n",
    "   *****\n",
    "    ***\n",
    "     *\n",
    "```"
   ]
  },
  {
   "cell_type": "code",
   "execution_count": 113,
   "metadata": {},
   "outputs": [
    {
     "data": {
      "text/plain": [
       "   *\n",
       "  ***\n",
       " *****\n",
       "  ***\n",
       "   *\n"
      ]
     },
     "execution_count": 113,
     "metadata": {},
     "output_type": "execute_result"
    }
   ],
   "source": [
    "let rhombus n :string = \n",
    "    ...    \n",
    "    \n",
    "rhombus 3"
   ]
  },
  {
   "cell_type": "markdown",
   "metadata": {},
   "source": [
    "## Regular Expressions\n",
    "\n",
    "In this section, you will practice to create a regular expressions.\n",
    "\n",
    "### Instructions\n",
    "\n",
    "- For each of the following descriptions write a matching it regular expression as a string parameter to the corresponding matching function. If the expression is correct, you will see `OK` output, otherwise `Wrong`.\n",
    "- 1 point per problem\n",
    "\n",
    "### Resources:\n",
    "- [Online Regular Expressions Tools](https://regexr.com/)\n",
    "- [C# - Regular Expressions](https://www.tutorialspoint.com/csharp/csharp_regular_expressions.htm)\n",
    "\n",
    "---"
   ]
  },
  {
   "cell_type": "markdown",
   "metadata": {},
   "source": [
    "Write a regular expression which will match the string `dog` or `Fox`. This is case sensitive."
   ]
  },
  {
   "cell_type": "code",
   "execution_count": 2,
   "metadata": {
    "scrolled": true
   },
   "outputs": [
    {
     "data": {
      "text/plain": [
       "Wrong"
      ]
     },
     "execution_count": 2,
     "metadata": {},
     "output_type": "execute_result"
    }
   ],
   "source": [
    "match01 \"put_your_regular_expression_here\""
   ]
  },
  {
   "cell_type": "markdown",
   "metadata": {},
   "source": [
    "Write a regular expression which will match exactly strings of form: `abc.de`,  where `a`, `b`, `c`, `d`, `e` are any characters."
   ]
  },
  {
   "cell_type": "code",
   "execution_count": 3,
   "metadata": {
    "scrolled": true
   },
   "outputs": [
    {
     "data": {
      "text/plain": [
       "Wrong"
      ]
     },
     "execution_count": 3,
     "metadata": {},
     "output_type": "execute_result"
    }
   ],
   "source": [
    "match02 \"put_your_regular_expression_here\""
   ]
  },
  {
   "cell_type": "markdown",
   "metadata": {},
   "source": [
    "Write a regular expression which will match word starting with consonants `F`, `j`, `T`, and `d`"
   ]
  },
  {
   "cell_type": "code",
   "execution_count": 4,
   "metadata": {},
   "outputs": [
    {
     "data": {
      "text/plain": [
       "Wrong"
      ]
     },
     "execution_count": 4,
     "metadata": {},
     "output_type": "execute_result"
    }
   ],
   "source": [
    "match03 \"put_your_regular_expression_here\""
   ]
  },
  {
   "cell_type": "markdown",
   "metadata": {},
   "source": [
    "Write a regular expression to match the strings of one lower case letter followed by two upper case letters."
   ]
  },
  {
   "cell_type": "code",
   "execution_count": 5,
   "metadata": {},
   "outputs": [
    {
     "data": {
      "text/plain": [
       "Wrong"
      ]
     },
     "execution_count": 5,
     "metadata": {},
     "output_type": "execute_result"
    }
   ],
   "source": [
    "match04 @\"put_your_regular_expression_here\""
   ]
  },
  {
   "cell_type": "markdown",
   "metadata": {},
   "source": [
    "Write a regular expression to match the strings with following conditions:\n",
    "\n",
    "- must be of length: 5\n",
    "- first character: 1, 2 or 3\n",
    "- second character: 1, 2 or 0\n",
    "- third character: x, s or 0\n",
    "- fourth character: 3, 0 , A or a\n",
    "- fifth character: . or ,"
   ]
  },
  {
   "cell_type": "code",
   "execution_count": 6,
   "metadata": {},
   "outputs": [
    {
     "data": {
      "text/plain": [
       "Wrong"
      ]
     },
     "execution_count": 6,
     "metadata": {},
     "output_type": "execute_result"
    }
   ],
   "source": [
    "match05 \"put_your_regular_expression_here\""
   ]
  },
  {
   "cell_type": "markdown",
   "metadata": {},
   "source": [
    " Write a regular expression to match a word at the end of a line, with optional punctuation."
   ]
  },
  {
   "cell_type": "code",
   "execution_count": 7,
   "metadata": {
    "scrolled": true
   },
   "outputs": [
    {
     "data": {
      "text/plain": [
       "Wrong"
      ]
     },
     "execution_count": 7,
     "metadata": {},
     "output_type": "execute_result"
    }
   ],
   "source": [
    "match06 \"put_your_regular_expression_here\""
   ]
  },
  {
   "cell_type": "markdown",
   "metadata": {},
   "source": [
    " Write a regular expression to match a word containing `m` or `w`, not at the start or end of the word."
   ]
  },
  {
   "cell_type": "code",
   "execution_count": 8,
   "metadata": {
    "scrolled": true
   },
   "outputs": [
    {
     "data": {
      "text/plain": [
       "Wrong"
      ]
     },
     "execution_count": 8,
     "metadata": {},
     "output_type": "execute_result"
    }
   ],
   "source": [
    "match07 \"put_your_regular_expression_here\""
   ]
  },
  {
   "cell_type": "markdown",
   "metadata": {},
   "source": [
    "Write a regular expression to match the strings with the following conditions:\n",
    "\n",
    "- should begin with 2 or more digits\n",
    "- after that, should have 0 or more lowercase letters\n",
    "- should end with 1 or more uppercase letters"
   ]
  },
  {
   "cell_type": "code",
   "execution_count": 9,
   "metadata": {},
   "outputs": [
    {
     "data": {
      "text/plain": [
       "Wrong"
      ]
     },
     "execution_count": 9,
     "metadata": {},
     "output_type": "execute_result"
    }
   ],
   "source": [
    "match08 \"put_your_regular_expression_here\""
   ]
  },
  {
   "cell_type": "markdown",
   "metadata": {},
   "source": [
    "Write a regular expression to match if two words from a list of words starting with letter `q`.        "
   ]
  },
  {
   "cell_type": "code",
   "execution_count": 10,
   "metadata": {},
   "outputs": [
    {
     "data": {
      "text/plain": [
       "Wrong"
      ]
     },
     "execution_count": 10,
     "metadata": {},
     "output_type": "execute_result"
    }
   ],
   "source": [
    "match09 \"put_your_regular_expression_here\""
   ]
  },
  {
   "cell_type": "markdown",
   "metadata": {},
   "source": [
    "Write a regular expression to match the strings with the following conditions:\n",
    "\n",
    "- must start with `Mr.`, `Mrs.`, `Ms.`, `Dr.` or `Er.`\n",
    "- the rest of the string must contain only one or more English alphabetic letters (upper and lowercase)."
   ]
  },
  {
   "cell_type": "code",
   "execution_count": 11,
   "metadata": {},
   "outputs": [
    {
     "data": {
      "text/plain": [
       "Wrong"
      ]
     },
     "execution_count": 11,
     "metadata": {},
     "output_type": "execute_result"
    }
   ],
   "source": [
    "match10 \"put_your_regular_expression_here\""
   ]
  },
  {
   "cell_type": "markdown",
   "metadata": {},
   "source": [
    "Write a regular expression to match a social security number (SSN). The input to match is a collection of SSNs separated by the new line symbol (`\\n`)."
   ]
  },
  {
   "cell_type": "code",
   "execution_count": 12,
   "metadata": {},
   "outputs": [
    {
     "data": {
      "text/plain": [
       "Wrong"
      ]
     },
     "execution_count": 12,
     "metadata": {},
     "output_type": "execute_result"
    }
   ],
   "source": [
    "match11 \"put_your_regular_expression_here\""
   ]
  },
  {
   "cell_type": "markdown",
   "metadata": {},
   "source": [
    "Write a regular expression to detect the **one letter tags** used in an HTML document.\n",
    "\n",
    "- Tags come in pairs. Some tag name, `t`, will have an opening tag, `<t>`, followed by some intermediate text, followed by a closing tag, `</t>`. The forward slash in a closing tag will always come before the tag name.\n",
    "- The exception to this is **self-closing tags**, which consist of a single tag (not a pair) with a forward slash after the tag name: `<p/>`\n",
    "- Some tags can also have **attributes**, such as the tag `a`, which is used to add a hyperlink to another document:\n",
    "    - `<a href=\"cnn.com\">CNN</a>`: the tag name `a` and `href` is an attribute having the value `cnn.com`"
   ]
  },
  {
   "cell_type": "code",
   "execution_count": 13,
   "metadata": {},
   "outputs": [
    {
     "data": {
      "text/plain": [
       "Wrong"
      ]
     },
     "execution_count": 13,
     "metadata": {},
     "output_type": "execute_result"
    }
   ],
   "source": [
    "match12 \"put_your_regular_expression_here\""
   ]
  }
 ],
 "metadata": {
  "kernelspec": {
   "display_name": ".NET (F#)",
   "language": "F#",
   "name": ".net-fsharp"
  },
  "language_info": {
   "file_extension": ".fs",
   "mimetype": "text/x-fsharp",
   "name": "C#",
   "pygments_lexer": "fsharp",
   "version": "4.5"
  }
 },
 "nbformat": 4,
 "nbformat_minor": 4
}
