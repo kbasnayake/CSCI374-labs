{
 "cells": [
  {
   "cell_type": "markdown",
   "metadata": {},
   "source": [
    "# Recursive Functions and Lists\n",
    " \n",
    "***Student Name:*** put your name here\n",
    "    \n",
    "    \n",
    "## Submission\n",
    "\n",
    "After answering all the questions, save your work in **PDF** format file\n",
    "    \n",
    "- Double-click on this cell\n",
    "- Enter your name in the above placeholder, and evaluate this cell to render it correctly\n",
    "- Save your work by pressing <span class=\"fa-save fa\"/> button in the toolbar\n",
    "- Go to menu \"File\" -> \"Download as\"\n",
    "- Select \"PDF via Latex (.pdf)\"\n",
    "- Use downloaded file for Blackboard submission \n",
    "\n",
    "For more information, see https://www.codecademy.com/articles/how-to-use-jupyter-notebooks\n",
    "\n",
    "### Coding Style\n",
    "\n",
    "- Use functional F# style for writing your programs.\n",
    "- Make sure that you do not use mutable variables & loops.\n",
    "- Any imperative style programming is prohibited unless specified in the problem description.\n",
    "\n",
    "For additional information of F# coding style see [F# Style Guide](https://docs.microsoft.com/en-us/dotnet/fsharp/style-guide/).\n",
    "\n",
    "### Before You Submit\n",
    "\n",
    "You are required to test that your submission works properly before submission. Make sure that your program compiles without errors. Once you have verified that the submission is correct, you can submit your work.\n",
    "\n",
    "### Your Submission\n",
    "\n",
    "Program submissions should be done through the Blackboard.\n",
    "    "
   ]
  },
  {
   "cell_type": "markdown",
   "metadata": {},
   "source": [
    "<span style=\"color:red; font-size: large;\">DO NOT USE LOOPS AND CORE LIBRARY FUNCTIONS!!! ONLY RECURSION IS ALLOWED.</span>\n",
    "\n",
    "The following functions are allowed: `List.head`, `List.tail`, `List.isEmpty`"
   ]
  },
  {
   "cell_type": "markdown",
   "metadata": {},
   "source": [
    "## Problems\n",
    "\n",
    "In this assignment, you will write a various recursive functions that manimulate lists.\n",
    "\n",
    "### Problem 1 (10 pts)\n",
    "\n",
    "Define a recursive function `prefix` that accepts a positive integer `n` and a list `xs` as input, and returns a list containing **only** the first `n` elements in `xs`.\n",
    "- This function must have a recursive definition and does not use any library functions!\n"
   ]
  },
  {
   "cell_type": "code",
   "execution_count": null,
   "metadata": {},
   "outputs": [],
   "source": [
    "let rec prefix n (xs:'a list) =\n",
    "    ..."
   ]
  },
  {
   "cell_type": "code",
   "execution_count": null,
   "metadata": {},
   "outputs": [],
   "source": [
    "//Test you function\n",
    "prefix 1 []      = []      |> printfn \"%b\"\n",
    "prefix 2 []      = []      |> printfn \"%b\"\n",
    "prefix 1 [1]     = [1]     |> printfn \"%b\"\n",
    "prefix 1 [1;2]   = [1]     |> printfn \"%b\"\n",
    "prefix 3 [1..10] = [1;2;3] |> printfn \"%b\""
   ]
  },
  {
   "cell_type": "markdown",
   "metadata": {},
   "source": [
    "### Problem 2 (10 pts)\n",
    "\n",
    "Define a recursive function `suffix` that accepts a positive integer `n` and a list `xs` as input, and returns the list of elements that remain **after** the first `n` elements are dropped from the front of the list `xs`.\n",
    "\n",
    "- This function must have a recursive definition, and may not use any library functions!"
   ]
  },
  {
   "cell_type": "code",
   "execution_count": null,
   "metadata": {
    "scrolled": true
   },
   "outputs": [],
   "source": [
    "let rec suffix n (xs:'a list) =\n",
    "    ..."
   ]
  },
  {
   "cell_type": "code",
   "execution_count": null,
   "metadata": {},
   "outputs": [],
   "source": [
    "// Test you function\n",
    "suffix 1 []      = []      |> printfn \"%b\"\n",
    "suffix 2 []      = []      |> printfn \"%b\"\n",
    "suffix 1 [1]     = []      |> printfn \"%b\"\n",
    "suffix 1 [1;2]   = [2]     |> printfn \"%b\"\n",
    "suffix 6 [1..9]  = [7;8;9] |> printfn \"%b\""
   ]
  },
  {
   "cell_type": "markdown",
   "metadata": {},
   "source": [
    "### Problem 3 (10 pts)\n",
    "\n",
    "Define a function `rev` that takes a  list `xs` and returns it in the reverse order.\n",
    "- F# standard library has `List.rev`, do not use it. You need to reimplement it."
   ]
  },
  {
   "cell_type": "code",
   "execution_count": null,
   "metadata": {},
   "outputs": [],
   "source": [
    "let rev (xs:'a list) =\n",
    "    ..."
   ]
  },
  {
   "cell_type": "code",
   "execution_count": null,
   "metadata": {},
   "outputs": [],
   "source": [
    "// Test you function\n",
    "List.rev [] = rev [] |> printfn \"%b\"\n",
    "List.rev [1..9] = rev [1..9] |> printfn \"%b\""
   ]
  },
  {
   "cell_type": "markdown",
   "metadata": {},
   "source": [
    "### Problem 4 (15 pts)\n",
    "\n",
    "Define a function `split` that takes a positive integer `n`, an element `y`, and a list `xs`.\n",
    "- The function should insert the specified element `y` after every `n` elements in the list `xs`.\n",
    "- This function should work even when applied to infinite lists.\n",
    "\n",
    "The following example illustrates how this function should work:\n",
    "\n",
    "```fsharp\n",
    "split 3 0 [1..10] = [1; 2; 3; 0; 4; 5; 6; 0; 7; 8; 9; 0; 10]\n",
    "```"
   ]
  },
  {
   "cell_type": "code",
   "execution_count": null,
   "metadata": {},
   "outputs": [],
   "source": [
    "let split n y xs =\n",
    "    ..."
   ]
  },
  {
   "cell_type": "code",
   "execution_count": null,
   "metadata": {},
   "outputs": [],
   "source": [
    "// Test you function\n",
    "split 2 'X' ['a'; 'b'; 'c'; 'd'; 'e'; 'f'] = ['a'; 'b'; 'X'; 'c'; 'd'; 'X'; 'e'; 'f'; 'X'] |> printfn \"%b\"\n",
    "split 3 'X' ['a'; 'b'; 'c'; 'd'; 'e'; 'f'] = ['a'; 'b'; 'c'; 'X'; 'd'; 'e'; 'f'; 'X'] |> printfn \"%b\"\n",
    "split 3 0 [1..10] = [1; 2; 3; 0; 4; 5; 6; 0; 7; 8; 9; 0; 10] |> printfn \"%b\""
   ]
  }
 ],
 "metadata": {
  "kernelspec": {
   "display_name": ".NET (F#)",
   "language": "F#",
   "name": ".net-fsharp"
  },
  "language_info": {
   "file_extension": ".fs",
   "mimetype": "text/x-fsharp",
   "name": "C#",
   "pygments_lexer": "fsharp",
   "version": "4.5"
  }
 },
 "nbformat": 4,
 "nbformat_minor": 4
}
