{
 "cells": [
  {
   "cell_type": "markdown",
   "metadata": {},
   "source": [
    "# Asynchronous Programming\n",
    "\n",
    "***Student Name:*** put your name here\n",
    "    \n",
    "    \n",
    "## Submission\n",
    "\n",
    "After answering all the questions, save your work in **PDF** format file (if saving in PDF format is not working submit Notebook-formated `.ipynb` version).\n",
    "    \n",
    "- Double-click on this cell\n",
    "- Enter your name in the above placeholder, and evaluate this cell to render it correctly\n",
    "- Save your work by pressing <span class=\"fa-save fa\"/> button in the toolbar\n",
    "- Go to menu \"File\" -> \"Download as\"\n",
    "- Select \"PDF via Latex (.pdf)\"\n",
    "- Use downloaded file for Blackboard submission \n",
    "\n",
    "For more information, see https://www.codecademy.com/articles/how-to-use-jupyter-notebooks\n",
    "\n",
    "### Coding Style\n",
    "\n",
    "- Use functional F# style for writing your programs.\n",
    "- Make sure that you do not use mutable variables & loops.\n",
    "- Any imperative style programming is prohibited unless specified in the problem description.\n",
    "\n",
    "For additional information of F# coding style see [F# Style Guide](https://docs.microsoft.com/en-us/dotnet/fsharp/style-guide/).\n",
    "\n",
    "### Before You Submit\n",
    "\n",
    "You are required to test that your submission works properly before submission. Make sure that your program compiles without errors. Once you have verified that the submission is correct, you can submit your work.\n",
    "\n",
    "### Your Submission\n",
    "\n",
    "Program submissions should be done through the Blackboard.\n",
    "    "
   ]
  },
  {
   "cell_type": "markdown",
   "metadata": {},
   "source": [
    "## Problems\n",
    "\n",
    "In this assignment, you will write program to estimate the value of $\\pi$ using Monte Carlo simulation. First, you write a sequential solution and the concurrent using asynchronous capabilities of F#. A few holes need to be filled in and then you can run & parallelize the sample!"
   ]
  },
  {
   "cell_type": "markdown",
   "metadata": {},
   "source": [
    "### Sequential (10 pts)"
   ]
  },
  {
   "cell_type": "markdown",
   "metadata": {},
   "source": [
    "\n",
    "Write a function that calculates whether a point is within the unit circle"
   ]
  },
  {
   "cell_type": "code",
   "execution_count": 1,
   "metadata": {},
   "outputs": [],
   "source": [
    "let insideCircle (x:float, y:float) = \n",
    "    ..."
   ]
  },
  {
   "cell_type": "markdown",
   "metadata": {},
   "source": [
    "Test your function, run following cells."
   ]
  },
  {
   "cell_type": "code",
   "execution_count": null,
   "metadata": {
    "scrolled": true
   },
   "outputs": [],
   "source": [
    "insideCircle (0.5, 0.5) // True"
   ]
  },
  {
   "cell_type": "code",
   "execution_count": null,
   "metadata": {},
   "outputs": [],
   "source": [
    "insideCircle (1.0, 1.0) // False"
   ]
  },
  {
   "cell_type": "markdown",
   "metadata": {},
   "source": [
    "Here is a function that generates a sequence of random points from a unit square."
   ]
  },
  {
   "cell_type": "code",
   "execution_count": 4,
   "metadata": {},
   "outputs": [],
   "source": [
    "let randomPoints max = seq {\n",
    "    let rnd = new Random()\n",
    "    for i in 0 .. max do\n",
    "        yield rnd.NextDouble(), rnd.NextDouble() \n",
    "}"
   ]
  },
  {
   "cell_type": "markdown",
   "metadata": {},
   "source": [
    "Test your function, run following cell."
   ]
  },
  {
   "cell_type": "code",
   "execution_count": 5,
   "metadata": {
    "scrolled": true
   },
   "outputs": [
    {
     "data": {
      "text/html": [
       "<table><thead><tr><th><i>index</i></th><th>Item1</th><th>Item2</th></tr></thead><tbody><tr><td>0</td><td>0.49921006499752874</td><td>0.7119231241345048</td></tr><tr><td>1</td><td>0.2894749884910299</td><td>0.01095692534509903</td></tr><tr><td>2</td><td>0.557762031237484</td><td>0.7866736533058218</td></tr><tr><td>3</td><td>0.5090413780459395</td><td>0.19461267404007385</td></tr><tr><td>4</td><td>0.7919179707727945</td><td>0.8734561805024074</td></tr><tr><td>5</td><td>0.8950525600905775</td><td>0.32964586994128575</td></tr></tbody></table>"
      ]
     },
     "execution_count": 5,
     "metadata": {},
     "output_type": "execute_result"
    }
   ],
   "source": [
    "randomPoints 5 // returns some random points"
   ]
  },
  {
   "cell_type": "markdown",
   "metadata": {},
   "source": [
    "Write a sequential version of the Monte Carlo simulation for $\\pi$ calculation by counting ratio of how many random points from the unit square appear in the unit circle."
   ]
  },
  {
   "cell_type": "code",
   "execution_count": 6,
   "metadata": {},
   "outputs": [],
   "source": [
    "let monteCarloPI size = \n",
    "    ..."
   ]
  },
  {
   "cell_type": "markdown",
   "metadata": {},
   "source": [
    "Test the Monte Carlo PI calculation, run following cell."
   ]
  },
  {
   "cell_type": "code",
   "execution_count": null,
   "metadata": {
    "scrolled": true
   },
   "outputs": [],
   "source": [
    "monteCarloPI 1000000"
   ]
  },
  {
   "cell_type": "markdown",
   "metadata": {},
   "source": [
    "### Asynchronous (10 pts)"
   ]
  },
  {
   "cell_type": "markdown",
   "metadata": {},
   "source": [
    "Now, try to write a concurrent version of these calculations using asynchronous programming. You would need:\n",
    "\n",
    "- Divide a simulation work between `nproc` number of tasks where each task is a independent Monte Carlo simulation\n",
    "- Run these tasks in parallel\n",
    "- And, finally, aggregate results to achieve a more precise value of $\\pi$\n",
    "\n",
    "References:\n",
    "\n",
    "- [Asynchronous programming](https://fsharpforfunandprofit.com/posts/concurrency-async-and-parallel/)\n",
    "- [Asynchronous Workflows](https://docs.microsoft.com/en-us/dotnet/fsharp/language-reference/asynchronous-workflows)\n",
    "- [F# Seq Module](https://msdn.microsoft.com/visualfsharpdocs/conceptual/collections.seq-module-%5bfsharp%5d)\n",
    "- [F# Async Class](https://msdn.microsoft.com/visualfsharpdocs/conceptual/control.async-class-%5bfsharp%5d)\n"
   ]
  },
  {
   "cell_type": "code",
   "execution_count": 8,
   "metadata": {},
   "outputs": [],
   "source": [
    "let monteCarloPIasync nproc size  =\n",
    "    ..."
   ]
  },
  {
   "cell_type": "code",
   "execution_count": null,
   "metadata": {},
   "outputs": [],
   "source": [
    "monteCarloPIasync 4 1000000"
   ]
  },
  {
   "cell_type": "markdown",
   "metadata": {},
   "source": [
    "### Bonus: Parallel (10 pts)\n",
    "\n",
    "The asynchronous programming primitives are build on top of lightweight \"green\" threads, which are more resource friendly then a proper threads. Try to use [Thread](https://docs.microsoft.com/en-us/dotnet/api/system.threading.thread?view=netcore-3.1) class, and write a thread-based parallel $\\pi$ estimator."
   ]
  },
  {
   "cell_type": "code",
   "execution_count": 10,
   "metadata": {},
   "outputs": [],
   "source": [
    "let monteCarloPIthread nproc size  =\n",
    "    ..."
   ]
  },
  {
   "cell_type": "code",
   "execution_count": null,
   "metadata": {},
   "outputs": [],
   "source": [
    "monteCarloPIthread 4 10000000"
   ]
  },
  {
   "cell_type": "markdown",
   "metadata": {},
   "source": [
    "## Benchmark"
   ]
  },
  {
   "cell_type": "markdown",
   "metadata": {},
   "source": [
    "Here is a benchmark function that measures function call time."
   ]
  },
  {
   "cell_type": "code",
   "execution_count": 12,
   "metadata": {},
   "outputs": [],
   "source": [
    "// function call timer\n",
    "let time f = \n",
    "    let stopWatch = System.Diagnostics.Stopwatch.StartNew()\n",
    "    let returnValue = f()\n",
    "    stopWatch.Stop()\n",
    "    printfn \"Elapsed Time: %f ms\" stopWatch.Elapsed.TotalMilliseconds\n",
    "    returnValue"
   ]
  },
  {
   "cell_type": "markdown",
   "metadata": {},
   "source": [
    "Try to run an compare different versions of $\\pi$ calculation"
   ]
  },
  {
   "cell_type": "code",
   "execution_count": 13,
   "metadata": {},
   "outputs": [
    {
     "name": "stdout",
     "output_type": "stream",
     "text": [
      "Elapsed Time: 16790.030800 ms\n"
     ]
    },
    {
     "data": {
      "text/plain": [
       "3.14152348"
      ]
     },
     "execution_count": 13,
     "metadata": {},
     "output_type": "execute_result"
    }
   ],
   "source": [
    "time (fun () -> monteCarloPI 100000000)"
   ]
  },
  {
   "cell_type": "code",
   "execution_count": 14,
   "metadata": {},
   "outputs": [
    {
     "name": "stdout",
     "output_type": "stream",
     "text": [
      "Elapsed Time: 5267.673200 ms\n"
     ]
    },
    {
     "data": {
      "text/plain": [
       "3.14144116"
      ]
     },
     "execution_count": 14,
     "metadata": {},
     "output_type": "execute_result"
    }
   ],
   "source": [
    "time (fun () -> monteCarloPIasync 4 100000000)"
   ]
  },
  {
   "cell_type": "code",
   "execution_count": 15,
   "metadata": {},
   "outputs": [
    {
     "name": "stdout",
     "output_type": "stream",
     "text": [
      "Elapsed Time: 6011.369900 ms\n"
     ]
    },
    {
     "data": {
      "text/plain": [
       "3.14162668"
      ]
     },
     "execution_count": 15,
     "metadata": {},
     "output_type": "execute_result"
    }
   ],
   "source": [
    "time (fun () -> monteCarloPIthread 4 100000000)"
   ]
  }
 ],
 "metadata": {
  "kernelspec": {
   "display_name": ".NET (F#)",
   "language": "F#",
   "name": ".net-fsharp"
  },
  "language_info": {
   "file_extension": ".fs",
   "mimetype": "text/x-fsharp",
   "name": "C#",
   "pygments_lexer": "fsharp",
   "version": "4.5"
  }
 },
 "nbformat": 4,
 "nbformat_minor": 4
}
