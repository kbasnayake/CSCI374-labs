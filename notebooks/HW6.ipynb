{
 "cells": [
  {
   "cell_type": "markdown",
   "metadata": {},
   "source": [
    "# Inheritance and Polymorphism\n",
    " \n",
    "***Student Name:*** put your name here\n",
    "    \n",
    "    \n",
    "## Submission\n",
    "\n",
    "After answering all the questions, save your work in **PDF** format file\n",
    "    \n",
    "- Double-click on this cell\n",
    "- Enter your name in the above placeholder, and evaluate this cell to render it correctly\n",
    "- Save your work by pressing <span class=\"fa-save fa\"/> button in the toolbar\n",
    "- Go to menu \"File\" -> \"Download as\"\n",
    "- Select \"PDF via Latex (.pdf)\"\n",
    "- Use downloaded file for Blackboard submission \n",
    "\n",
    "For more information, see https://www.codecademy.com/articles/how-to-use-jupyter-notebooks\n",
    "\n",
    "### Coding Style\n",
    "\n",
    "- Use functional F# style for writing your programs.\n",
    "- Make sure that you do not use mutable variables & loops.\n",
    "- Any imperative style programming is prohibited unless specified in the problem description.\n",
    "\n",
    "For additional information of F# coding style see [F# Style Guide](https://docs.microsoft.com/en-us/dotnet/fsharp/style-guide/).\n",
    "\n",
    "### Before You Submit\n",
    "\n",
    "You are required to test that your submission works properly before submission. Make sure that your program compiles without errors. Once you have verified that the submission is correct, you can submit your work.\n",
    "\n",
    "### Your Submission\n",
    "\n",
    "Program submissions should be done through the Blackboard.\n",
    "    "
   ]
  },
  {
   "cell_type": "markdown",
   "metadata": {},
   "source": [
    "## Objective\n",
    "\n",
    "To gain experience of F# OOP with base and derived classes, virtual functions, using applications of polymorphism, indexers and properties."
   ]
  },
  {
   "cell_type": "markdown",
   "metadata": {},
   "source": [
    "## Problem\n",
    "\n",
    "Calculate a **distance** between two points in various metric spaces. You can use the Euclidean distance which is defined by the following formula:\n",
    "\n",
    "$$d(x,y) = \\sqrt{\\sum_{i=1}^N (x_i-y_i)^2}$$\n",
    "\n",
    "where *N* is a dimension of the space.\n",
    "\n",
    "Use this knowledge to calculate `distance` in various metric spaces represented by various data types: `Real`, `Complex`, and `Vector3D` that have the common base class `VectorSpace`.\n",
    "\n",
    "\n",
    "## Resources\n",
    "\n",
    "- [F# Language Reference: Classes](https://docs.microsoft.com/en-us/dotnet/fsharp/language-reference/classes)\n",
    "- [F# Language Reference: Abstract Classes](https://docs.microsoft.com/en-us/dotnet/fsharp/language-reference/abstract-classes)\n",
    "- [F# Language Reference: Inheritance](https://docs.microsoft.com/en-us/dotnet/fsharp/language-reference/inheritance)\n",
    "- [F# for fun and profit: Classes](https://fsharpforfunandprofit.com/posts/classes/)\n",
    "- [F# for fun and profit: Inheritance and abstract classes](https://fsharpforfunandprofit.com/posts/inheritance/)\n",
    "- [F# Language Reference: Properties](https://docs.microsoft.com/en-us/dotnet/fsharp/language-reference/members/properties)\n",
    "- [F# Language Reference: Indexed Properties](https://docs.microsoft.com/en-us/dotnet/fsharp/language-reference/members/indexed-properties)\n",
    "\n",
    "\n",
    "## Solution\n",
    "\n",
    "You are provided with an abstract class `VectorSpace` that has two abstract members:"
   ]
  },
  {
   "cell_type": "code",
   "execution_count": 1,
   "metadata": {},
   "outputs": [],
   "source": [
    "[<AbstractClass>]\n",
    "type VectorSpace() =\n",
    "   abstract Dimensions : int             // read-only property\n",
    "   abstract Item : int -> float with get // indexed property"
   ]
  },
  {
   "cell_type": "markdown",
   "metadata": {},
   "source": [
    "Write a `Real` class derived from the `VectorSpace` abstract base class, and implement all abstract members.\n",
    "- You **cannot** change constructor parameters, and add additional members."
   ]
  },
  {
   "cell_type": "code",
   "execution_count": 2,
   "metadata": {},
   "outputs": [],
   "source": [
    "type Real(x:float) =\n",
    "    ..."
   ]
  },
  {
   "cell_type": "markdown",
   "metadata": {},
   "source": [
    "Test your class"
   ]
  },
  {
   "cell_type": "code",
   "execution_count": 3,
   "metadata": {},
   "outputs": [],
   "source": [
    "let vec1 = Real 10.0"
   ]
  },
  {
   "cell_type": "code",
   "execution_count": 4,
   "metadata": {},
   "outputs": [
    {
     "data": {
      "text/plain": [
       "True"
      ]
     },
     "execution_count": 4,
     "metadata": {},
     "output_type": "execute_result"
    }
   ],
   "source": [
    "vec1.Dimensions = 1 // true"
   ]
  },
  {
   "cell_type": "code",
   "execution_count": 5,
   "metadata": {},
   "outputs": [
    {
     "data": {
      "text/plain": [
       "True"
      ]
     },
     "execution_count": 5,
     "metadata": {},
     "output_type": "execute_result"
    }
   ],
   "source": [
    "vec1.[1] = 10.0 // true"
   ]
  },
  {
   "cell_type": "markdown",
   "metadata": {},
   "source": [
    "Write a `Complex` class derived from the `Real` base class, and re-implement all abstract members.\n",
    "- You **cannot** change constructor parameters, and add additional members."
   ]
  },
  {
   "cell_type": "code",
   "execution_count": 6,
   "metadata": {},
   "outputs": [],
   "source": [
    "type Complex(x:float, y:float) =\n",
    "    ..."
   ]
  },
  {
   "cell_type": "markdown",
   "metadata": {},
   "source": [
    "Test your class"
   ]
  },
  {
   "cell_type": "code",
   "execution_count": 7,
   "metadata": {},
   "outputs": [],
   "source": [
    "let vec2 = Complex (10.0, 20.0)"
   ]
  },
  {
   "cell_type": "code",
   "execution_count": 8,
   "metadata": {},
   "outputs": [
    {
     "data": {
      "text/plain": [
       "True"
      ]
     },
     "execution_count": 8,
     "metadata": {},
     "output_type": "execute_result"
    }
   ],
   "source": [
    "vec2.Dimensions = 2 // true"
   ]
  },
  {
   "cell_type": "code",
   "execution_count": 9,
   "metadata": {},
   "outputs": [
    {
     "data": {
      "text/plain": [
       "True"
      ]
     },
     "execution_count": 9,
     "metadata": {},
     "output_type": "execute_result"
    }
   ],
   "source": [
    "(vec2.[1], vec2.[2]) = (10.0, 20.0) // true"
   ]
  },
  {
   "cell_type": "markdown",
   "metadata": {},
   "source": [
    "Write a `Vector3D` class derived from the `Complex` base class, and re-implement all abstract members.\n",
    "- You **cannot** change constructor parameters, and add additional members."
   ]
  },
  {
   "cell_type": "code",
   "execution_count": 10,
   "metadata": {},
   "outputs": [],
   "source": [
    "type Vector3D(x:float, y:float, z:float) =\n",
    "    ..."
   ]
  },
  {
   "cell_type": "markdown",
   "metadata": {},
   "source": [
    "Test your class"
   ]
  },
  {
   "cell_type": "code",
   "execution_count": 11,
   "metadata": {},
   "outputs": [],
   "source": [
    "let vec3 = Vector3D (10.0, 20.0, 30.0)"
   ]
  },
  {
   "cell_type": "code",
   "execution_count": 12,
   "metadata": {},
   "outputs": [
    {
     "data": {
      "text/plain": [
       "True"
      ]
     },
     "execution_count": 12,
     "metadata": {},
     "output_type": "execute_result"
    }
   ],
   "source": [
    "vec3.Dimensions = 3 // true"
   ]
  },
  {
   "cell_type": "code",
   "execution_count": 13,
   "metadata": {},
   "outputs": [
    {
     "data": {
      "text/plain": [
       "True"
      ]
     },
     "execution_count": 13,
     "metadata": {},
     "output_type": "execute_result"
    }
   ],
   "source": [
    "(vec3.[1], vec3.[2], vec3.[3]) = (10.0, 20.0, 30.0) // true"
   ]
  },
  {
   "cell_type": "markdown",
   "metadata": {},
   "source": [
    "- Write a **one** function template that calculates a distance between two points of `VectorSpace`-typed objects.\n",
    "    - **Hint:** What is common for all provided definitions of metric space classes?\n",
    "    - **Hint:**  What operator provides common interface for accessing data?"
   ]
  },
  {
   "cell_type": "code",
   "execution_count": 14,
   "metadata": {},
   "outputs": [],
   "source": [
    "let distance (vec1:VectorSpace) (vec2:VectorSpace) =\n",
    "    ..."
   ]
  },
  {
   "cell_type": "markdown",
   "metadata": {},
   "source": [
    "Test your function"
   ]
  },
  {
   "cell_type": "code",
   "execution_count": 15,
   "metadata": {},
   "outputs": [
    {
     "data": {
      "text/plain": [
       "0"
      ]
     },
     "execution_count": 15,
     "metadata": {},
     "output_type": "execute_result"
    }
   ],
   "source": [
    "distance (Real 1.0) (Real 1.0) // 0"
   ]
  },
  {
   "cell_type": "code",
   "execution_count": 16,
   "metadata": {},
   "outputs": [
    {
     "data": {
      "text/plain": [
       "9"
      ]
     },
     "execution_count": 16,
     "metadata": {},
     "output_type": "execute_result"
    }
   ],
   "source": [
    "distance (Real 1.0) (Real 10.0) // 9"
   ]
  },
  {
   "cell_type": "code",
   "execution_count": 17,
   "metadata": {},
   "outputs": [
    {
     "ename": "Unhandled Exception",
     "evalue": "Vectors' dimensions must be the same",
     "output_type": "error",
     "traceback": [
      "Unhandled Exception",
      "Vectors' dimensions must be the same",
      "   at FSI_0017.distance(VectorSpace vec1, VectorSpace vec2)",
      "   at <StartupCode$FSI_0020>.$FSI_0020.main@()"
     ]
    }
   ],
   "source": [
    "distance (Complex (1.0, 0.0)) (Real 1.0) // error"
   ]
  },
  {
   "cell_type": "code",
   "execution_count": 18,
   "metadata": {},
   "outputs": [
    {
     "data": {
      "text/plain": [
       "2"
      ]
     },
     "execution_count": 18,
     "metadata": {},
     "output_type": "execute_result"
    }
   ],
   "source": [
    "distance (Complex (1.0, 0.0)) (Complex (1.0, 2.0)) // 2"
   ]
  },
  {
   "cell_type": "code",
   "execution_count": 19,
   "metadata": {},
   "outputs": [
    {
     "data": {
      "text/plain": [
       "1.4142135623730951"
      ]
     },
     "execution_count": 19,
     "metadata": {},
     "output_type": "execute_result"
    }
   ],
   "source": [
    "distance (Complex (0.0, 0.0)) (Complex (1.0, 1.0)) // sqrt(2)"
   ]
  },
  {
   "cell_type": "code",
   "execution_count": 20,
   "metadata": {},
   "outputs": [
    {
     "data": {
      "text/plain": [
       "1.7320508075688772"
      ]
     },
     "execution_count": 20,
     "metadata": {},
     "output_type": "execute_result"
    }
   ],
   "source": [
    "distance (Vector3D (0.0, 0.0, 0.0)) (Vector3D (1.0, 1.0, 1.0)) // sqrt(3.0)"
   ]
  }
 ],
 "metadata": {
  "kernelspec": {
   "display_name": ".NET (F#)",
   "language": "F#",
   "name": ".net-fsharp"
  },
  "language_info": {
   "file_extension": ".fs",
   "mimetype": "text/x-fsharp",
   "name": "C#",
   "pygments_lexer": "fsharp",
   "version": "4.5"
  }
 },
 "nbformat": 4,
 "nbformat_minor": 4
}
